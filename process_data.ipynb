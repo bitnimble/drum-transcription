{
 "cells": [
  {
   "cell_type": "code",
   "execution_count": null,
   "metadata": {},
   "outputs": [],
   "source": [
    "# Process all raw wav/midi files and extract features\n",
    "import glob\n",
    "\n",
    "train_files = glob.glob('/mnt/d/drums/train/*.wav')\n",
    "validate_files = glob.glob('/mnt/d/drums/valid/*.wav')\n",
    "\n",
    "# print(train_files)\n",
    "write_tfrecords(train_files, '/mnt/d/drums/train')\n",
    "write_tfrecords(validate_files, '/mnt/d/drums/validate')"
   ]
  },
  {
   "cell_type": "code",
   "execution_count": null,
   "metadata": {},
   "outputs": [],
   "source": [
    "import librosa\n",
    "from IPython.display import Audio\n",
    "import numpy as np\n",
    "from pydub import AudioSegment\n",
    "\n",
    "song = AudioSegment.from_wav('./2_rock_100_beat_4-4_2.wav')\n",
    "high = song.high_pass_filter(15000)\n",
    "Audio(np.array(high.get_array_of_samples() + np.array(song.get_array_of_samples()) * 0.1), rate=song.frame_rate)"
   ]
  }
 ],
 "metadata": {
  "kernelspec": {
   "display_name": "Python 3 (ipykernel)",
   "language": "python",
   "name": "python3"
  },
  "language_info": {
   "codemirror_mode": {
    "name": "ipython",
    "version": 3
   },
   "file_extension": ".py",
   "mimetype": "text/x-python",
   "name": "python",
   "nbconvert_exporter": "python",
   "pygments_lexer": "ipython3",
   "version": "3.9.13"
  }
 },
 "nbformat": 4,
 "nbformat_minor": 2
}
